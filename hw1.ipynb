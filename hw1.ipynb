{
 "cells": [
  {
   "cell_type": "markdown",
   "metadata": {},
   "source": [
    "# Homework"
   ]
  },
  {
   "cell_type": "markdown",
   "metadata": {},
   "source": [
    "## Problem 1"
   ]
  },
  {
   "cell_type": "markdown",
   "metadata": {},
   "source": [
    "Make a tuple containing natural numbers, the square of which is a multiple of 3, 4, but not a multiple of 8 and not exceeding 12345."
   ]
  },
  {
   "cell_type": "code",
   "execution_count": 84,
   "metadata": {
    "tags": []
   },
   "outputs": [
    {
     "data": {
      "text/plain": [
       "(6, 18, 30, 42, 54, 66, 78, 90, 102)"
      ]
     },
     "execution_count": 84,
     "metadata": {},
     "output_type": "execute_result"
    }
   ],
   "source": [
    "# Your solution here\n",
    "tuple(x for x in range(1, int(12345 ** 0.5) + 1)  if x**2 % 12 == 0 and x**2 % 8 != 0)"
   ]
  },
  {
   "cell_type": "markdown",
   "metadata": {},
   "source": [
    "## Problem 2"
   ]
  },
  {
   "cell_type": "markdown",
   "metadata": {},
   "source": [
    "\n",
    "Write a function that takes a two-dimensional array and a string as input and returns an array rotated 90 degrees counterclockwise if the string 'left' was passed, and clockwise if the string 'right' was passed.\n",
    "\n",
    "Example for input: $\\begin{bmatrix} 1 & 2 & 3 \\\\ 4 & 5 & 6 \\\\ 7 & 8 & 9 \\end{bmatrix}$.\\\n",
    "If the string 'left' is passed, the function should return $\\begin{bmatrix} 3 & 6 & 9 \\\\ 2 & 5 & 8 \\\\ 1 & 4 & 7 \\end{bmatrix}$, and if the string 'right' is passed, the function should return $\\begin{bmatrix} 7 & 4 & 1 \\\\ 8 & 5 & 2 \\\\ 9 & 6 & 3 \\end{bmatrix}$."
   ]
  },
  {
   "cell_type": "code",
   "execution_count": 85,
   "metadata": {
    "tags": []
   },
   "outputs": [],
   "source": [
    "# Your solution here\n",
    "def rotate_array(array, direction):\n",
    "    num_rows, num_cols = len(array), len(array[0])\n",
    "    if direction == \"left\":\n",
    "        return [[array[row][col] for row in range(num_rows)] for col in range(num_cols-1, -1, -1)]\n",
    "    elif direction == \"right\":\n",
    "        return [[array[row][col] for row in range(num_rows-1, -1, -1)] for col in range(num_cols)]"
   ]
  },
  {
   "cell_type": "code",
   "execution_count": 86,
   "metadata": {
    "tags": []
   },
   "outputs": [
    {
     "name": "stdout",
     "output_type": "stream",
     "text": [
      "[3, 6, 9]\n",
      "[2, 5, 8]\n",
      "[1, 4, 7]\n",
      "----------\n",
      "[7, 4, 1]\n",
      "[8, 5, 2]\n",
      "[9, 6, 3]\n"
     ]
    }
   ],
   "source": [
    "a = [\n",
    "    [1,2,3],\n",
    "    [4,5,6],\n",
    "    [7,8,9]\n",
    "]\n",
    "a_left, a_right = rotate_array(a, \"left\"), rotate_array(a, \"right\")\n",
    "for row in a_left: print(row)\n",
    "print(\"-\"*10)\n",
    "for row in a_right: print(row)"
   ]
  },
  {
   "cell_type": "markdown",
   "metadata": {},
   "source": [
    "## Problem 3"
   ]
  },
  {
   "cell_type": "markdown",
   "metadata": {},
   "source": [
    "Write a function that takes a string as input and returns a dictionary containing the number of occurrences of each character in the string.\n",
    "\n",
    "Example for the string 'hello, world!': {'h': 1, 'e': 1, 'l': 3, 'o': 2, ',': 1, ' ': 1, 'w': 1, 'r': 1, 'd': 1, '!': 1}."
   ]
  },
  {
   "cell_type": "code",
   "execution_count": 87,
   "metadata": {
    "tags": []
   },
   "outputs": [],
   "source": [
    "# Your solution here\n",
    "from collections import defaultdict\n",
    "def count_characters(string):\n",
    "    dct = defaultdict(int)\n",
    "    for ch in string:\n",
    "        dct[ch] += 1\n",
    "    return dct"
   ]
  },
  {
   "cell_type": "code",
   "execution_count": 88,
   "metadata": {
    "tags": []
   },
   "outputs": [
    {
     "data": {
      "text/plain": [
       "defaultdict(int,\n",
       "            {'h': 1,\n",
       "             'e': 1,\n",
       "             'l': 3,\n",
       "             'o': 2,\n",
       "             ',': 1,\n",
       "             ' ': 1,\n",
       "             'w': 1,\n",
       "             'r': 1,\n",
       "             'd': 1,\n",
       "             '!': 1})"
      ]
     },
     "execution_count": 88,
     "metadata": {},
     "output_type": "execute_result"
    }
   ],
   "source": [
    "count_characters(\"hello, world!\")"
   ]
  },
  {
   "cell_type": "markdown",
   "metadata": {},
   "source": [
    "## Problem 4"
   ]
  },
  {
   "cell_type": "markdown",
   "metadata": {},
   "source": [
    "### Implementing a Library Management System\n",
    "\n",
    "#### Description\n",
    "\n",
    "You are required to design and implement a system for managing books and users in a library. The system should allow for the management of books (adding, deleting, searching by various criteria) and users (registration, deletion, searching), as well as tracking the history of interactions between them (issuing and returning books).\n",
    "\n",
    "#### Tasks\n",
    "\n",
    "1. **`Book` Class**:\n",
    "   - Attributes: title, author, year of publication, ISBN, number of copies.\n",
    "   - Methods: constructor, methods to get information about the book, method to change the number of copies (when issuing and returning books).\n",
    "\n",
    "2. **`User` Class**:\n",
    "   - Attributes: user name, library card number, list of borrowed books.\n",
    "   - Methods: constructor, methods for user registration, methods for adding and removing books from the borrowed list.\n",
    "\n",
    "3. **`Library` Class**:\n",
    "   - Attributes: list of books, list of users, transaction history (who, when, which book was borrowed and returned).\n",
    "   - Methods: constructor, methods for adding and deleting books and users, methods for issuing and returning books, searching for books and users by various criteria, method to display the transaction history.\n",
    "\n",
    "#### Assignment\n",
    "\n",
    "1. Implement the `Book`, `User`, and `Library` classes with the specified attributes and methods.\n",
    "2. Create several books and users, and add them to the library system.\n",
    "3. Implement scenarios for issuing books to users and their return.\n",
    "4. Display the transaction history to show how books were issued and returned.\n"
   ]
  },
  {
   "cell_type": "code",
   "execution_count": 104,
   "metadata": {
    "tags": []
   },
   "outputs": [],
   "source": [
    "from rstr import xeger\n",
    "\n",
    "\n",
    "class Book():\n",
    "    def __init__(self, title, author, year, isbn, num_of_copies):\n",
    "        self.title = title\n",
    "        self.author = author\n",
    "        self.year = year\n",
    "        self.isbn = isbn\n",
    "        self.num_of_copies = num_of_copies\n",
    "\n",
    "    def get_info(self):\n",
    "        return {\"title\": self.title, \n",
    "                \"author\": self.author, \n",
    "                \"year\": self.year,\n",
    "                \"ISBN\": self.isbn, \n",
    "                \"copies\": self.num_of_copies}\n",
    "\n",
    "    def change_copies(self, amount):\n",
    "        self.num_of_copies += amount\n",
    "\n",
    "class User():\n",
    "    def __init__(self, name, card_number):\n",
    "        self.name = name\n",
    "        self.card_number = card_number\n",
    "        self.borrowed_books = []\n",
    "\n",
    "    @staticmethod\n",
    "    def register(self, name):  \n",
    "        return User(name, xeger(r'[A-Z]\\d\\d\\d'))\n",
    "\n",
    "    def add_book(self, book):\n",
    "        self.borrowed_books.append(book)\n",
    "\n",
    "    def remove_book(self, book):\n",
    "        if book in self.borrowed_books:\n",
    "            self.borrowed_books.remove(book)\n",
    "\n",
    "class Library:\n",
    "    def __init__(self):\n",
    "        self.books = []\n",
    "        self.users = []\n",
    "        self.transactions = []\n",
    "\n",
    "    def add_book(self, book):\n",
    "        self.books.append(book)\n",
    "\n",
    "    def delete_book(self, book):\n",
    "        if book in self.books:\n",
    "            self.books.remove(book)\n",
    "\n",
    "    def add_user(self, user):\n",
    "        self.users.append(user)\n",
    "\n",
    "    def delete_user(self, user):\n",
    "        if user in self.users:\n",
    "            self.users.remove(user)\n",
    "\n",
    "    def issue_book(self, user, book):\n",
    "        if book.num_of_copies > 0:\n",
    "            user.add_book(book)\n",
    "            book.change_copies(-1)\n",
    "            self.transactions.append((user.name, \"issued\", book.title))\n",
    "            print(f\"{user.name} has borrowed {book.title}.\")\n",
    "        else:\n",
    "            print(\"No copies available for borrowing.\")\n",
    "\n",
    "    def return_book(self, user, book):\n",
    "        if book in user.borrowed_books:\n",
    "            user.remove_book(book)\n",
    "            book.change_copies(1)\n",
    "            self.transactions.append((user.name, \"returned\", book.title))\n",
    "            print(f\"{user.name} has returned {book.title}.\")\n",
    "        else:\n",
    "            print(\"This book was not borrowed by the user.\")\n",
    "\n",
    "    def display_transactions(self):\n",
    "        for transaction in self.transactions:\n",
    "            print(f\"{transaction[0]} {transaction[1]} {transaction[2]}\")"
   ]
  },
  {
   "cell_type": "code",
   "execution_count": 105,
   "metadata": {
    "tags": []
   },
   "outputs": [
    {
     "name": "stdout",
     "output_type": "stream",
     "text": [
      "Alice has borrowed Python Programming.\n",
      "Bob has borrowed Python Programming.\n",
      "Alice has returned Python Programming.\n",
      "Alice issued Python Programming\n",
      "Bob issued Python Programming\n",
      "Alice returned Python Programming\n"
     ]
    }
   ],
   "source": [
    "book1 = Book(\"Python Programming\", \"John Doe\", 2020, \"123456789\", 5)\n",
    "book2 = Book(\"Data Structures\", \"Jane Smith\", 2018, \"987654321\", 3)\n",
    "\n",
    "user1 = User(\"Alice\", \"A123\")\n",
    "user2 = User(\"Bob\", \"B456\")\n",
    "\n",
    "library = Library()\n",
    "library.add_book(book1)\n",
    "library.add_book(book2)\n",
    "library.add_user(user1)\n",
    "library.add_user(user2)\n",
    "\n",
    "library.issue_book(user1, book1)\n",
    "library.issue_book(user2, book1)\n",
    "library.return_book(user1, book1)\n",
    "\n",
    "library.display_transactions()"
   ]
  },
  {
   "cell_type": "markdown",
   "metadata": {},
   "source": [
    "## Problem 5*"
   ]
  },
  {
   "cell_type": "markdown",
   "metadata": {},
   "source": [
    "Explain why list `b` changes after the execution of the following code:\n",
    "\n",
    "```python\n",
    "a = [1, 2, 3]\n",
    "b = [a] \n",
    "a[0] = 4\n",
    "print(b)\n",
    "```"
   ]
  },
  {
   "cell_type": "markdown",
   "metadata": {},
   "source": [
    "> Write your answer in markdown cell after:"
   ]
  },
  {
   "cell_type": "markdown",
   "metadata": {},
   "source": [
    "потому, что список - мутабельный тип, и если его явно ну копировать, то b будет ссылаться на перовначально созданный a."
   ]
  },
  {
   "cell_type": "markdown",
   "metadata": {},
   "source": [
    "## Problem 6*"
   ]
  },
  {
   "cell_type": "markdown",
   "metadata": {},
   "source": [
    "Let \n",
    "$$A = \\sum_{i=1}^{10000} \\frac{1}{i^2},\\quad B=\\sum_{i=10000}^{1} \\frac{1}{i^2}.$$\n",
    "Calculate the values of $A$ and $B$ and compare them. What do you observe? Explain why this happens. What is the best way to calculate the value of $\\sum\\limits_{i=1}^{10000} \\dfrac{1}{i^2}$?"
   ]
  },
  {
   "cell_type": "code",
   "execution_count": 90,
   "metadata": {
    "tags": []
   },
   "outputs": [
    {
     "name": "stdout",
     "output_type": "stream",
     "text": [
      "A > B\n",
      "A = B\n"
     ]
    }
   ],
   "source": [
    "# Your solution here\n",
    "A = sum(map(lambda x: 1/x**2, range(1, 10_001)))\n",
    "B = sum(map(lambda x: 1/x**2, range(10_000, 0, -1)))\n",
    "print(f\"A {'>' if A > B else '=' if A == B else '<'} B\") # error when consecutively adding floating point number\n",
    "\n",
    "# Precise solution:\n",
    "from math import fsum\n",
    "A_precise = fsum(map(lambda x: 1/x**2, range(1, 10_001)))\n",
    "B_precise = fsum(map(lambda x: 1/x**2, range(10_000, 0, -1)))\n",
    "print(f\"A {'>' if A_precise > B_precise else '=' if A_precise == B_precise else '<'} B\")"
   ]
  },
  {
   "cell_type": "code",
   "execution_count": null,
   "metadata": {},
   "outputs": [],
   "source": []
  }
 ],
 "metadata": {
  "colab": {
   "name": "colab-tutorial.ipynb",
   "provenance": []
  },
  "kernelspec": {
   "display_name": "Python 3 (ipykernel)",
   "language": "python",
   "name": "python3"
  },
  "language_info": {
   "codemirror_mode": {
    "name": "ipython",
    "version": 3
   },
   "file_extension": ".py",
   "mimetype": "text/x-python",
   "name": "python",
   "nbconvert_exporter": "python",
   "pygments_lexer": "ipython3",
   "version": "3.10.12"
  }
 },
 "nbformat": 4,
 "nbformat_minor": 4
}
